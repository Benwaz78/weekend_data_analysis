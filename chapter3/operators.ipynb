{
 "cells": [
  {
   "cell_type": "code",
   "execution_count": 1,
   "id": "83882e83-3e21-423f-af3f-fecc3c10ef71",
   "metadata": {},
   "outputs": [
    {
     "name": "stdout",
     "output_type": "stream",
     "text": [
      "True\n"
     ]
    }
   ],
   "source": [
    "x = 5\n",
    "print(x < 7 and x < 10)"
   ]
  },
  {
   "cell_type": "code",
   "execution_count": 2,
   "id": "73e451eb-27c7-43aa-804e-87854275d148",
   "metadata": {},
   "outputs": [
    {
     "name": "stdout",
     "output_type": "stream",
     "text": [
      "False\n"
     ]
    }
   ],
   "source": [
    "x = 5\n",
    "print(x < 7 and x < 3)"
   ]
  },
  {
   "cell_type": "code",
   "execution_count": 3,
   "id": "f8ec5e1d-c0fd-4650-ba8d-7e9e4d4c7772",
   "metadata": {},
   "outputs": [
    {
     "name": "stdout",
     "output_type": "stream",
     "text": [
      "True\n"
     ]
    }
   ],
   "source": [
    "x = 5\n",
    "print(x < 7 or x < 3)"
   ]
  },
  {
   "cell_type": "code",
   "execution_count": 4,
   "id": "94084c2e-6cb4-4d1c-ad56-5b40a3f6f658",
   "metadata": {},
   "outputs": [
    {
     "name": "stdout",
     "output_type": "stream",
     "text": [
      "True\n"
     ]
    }
   ],
   "source": [
    "x = 5\n",
    "print(x < 7 or x < 10)"
   ]
  },
  {
   "cell_type": "code",
   "execution_count": 5,
   "id": "3b4e0ee1-120c-4a8f-8fea-3eb1a056a924",
   "metadata": {},
   "outputs": [
    {
     "name": "stdout",
     "output_type": "stream",
     "text": [
      "False\n"
     ]
    }
   ],
   "source": [
    "x = 5\n",
    "print(not(x < 7))"
   ]
  },
  {
   "cell_type": "code",
   "execution_count": null,
   "id": "123beb09-c906-451b-80ab-2f8b7ca53080",
   "metadata": {},
   "outputs": [],
   "source": []
  }
 ],
 "metadata": {
  "kernelspec": {
   "display_name": "Python 3 (ipykernel)",
   "language": "python",
   "name": "python3"
  },
  "language_info": {
   "codemirror_mode": {
    "name": "ipython",
    "version": 3
   },
   "file_extension": ".py",
   "mimetype": "text/x-python",
   "name": "python",
   "nbconvert_exporter": "python",
   "pygments_lexer": "ipython3",
   "version": "3.7.0"
  }
 },
 "nbformat": 4,
 "nbformat_minor": 5
}
