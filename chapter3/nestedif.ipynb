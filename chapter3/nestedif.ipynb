{
 "cells": [
  {
   "cell_type": "code",
   "execution_count": 2,
   "id": "4f06bfa4-103a-4f79-b416-f09cf61cdfff",
   "metadata": {},
   "outputs": [
    {
     "name": "stdout",
     "output_type": "stream",
     "text": [
      "15\n"
     ]
    }
   ],
   "source": [
    "x = 10\n",
    "a = 5\n",
    "b = 3\n",
    "\n",
    "if x > 7:\n",
    "    if a > b:\n",
    "        print(a * b)\n",
    "    else:\n",
    "        print('a is not greater than b')\n",
    "else:\n",
    "    print('x is not greater than 7')"
   ]
  },
  {
   "cell_type": "code",
   "execution_count": null,
   "id": "218ed1a2-bbf7-4458-bf47-da68ca7c0155",
   "metadata": {},
   "outputs": [],
   "source": []
  }
 ],
 "metadata": {
  "kernelspec": {
   "display_name": "Python 3 (ipykernel)",
   "language": "python",
   "name": "python3"
  },
  "language_info": {
   "codemirror_mode": {
    "name": "ipython",
    "version": 3
   },
   "file_extension": ".py",
   "mimetype": "text/x-python",
   "name": "python",
   "nbconvert_exporter": "python",
   "pygments_lexer": "ipython3",
   "version": "3.7.0"
  }
 },
 "nbformat": 4,
 "nbformat_minor": 5
}
