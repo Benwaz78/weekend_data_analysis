{
 "cells": [
  {
   "cell_type": "code",
   "execution_count": 1,
   "id": "395d1257-ce34-4b36-aa47-7ed2efb3d9c7",
   "metadata": {},
   "outputs": [
    {
     "name": "stdout",
     "output_type": "stream",
     "text": [
      "a is not equal to b\n",
      "a is greater than b\n"
     ]
    }
   ],
   "source": [
    "a = 7\n",
    "b = 5\n",
    "\n",
    "if a == b:\n",
    "    print('a is equal to b')\n",
    "    \n",
    "if a < b:\n",
    "    print('a is less than b')\n",
    "    \n",
    "if a != b:\n",
    "    print('a is not equal to b')\n",
    "    \n",
    "if a > b:\n",
    "    print('a is greater than b')\n",
    "else:\n",
    "    print('No result')"
   ]
  },
  {
   "cell_type": "code",
   "execution_count": null,
   "id": "cf9529c8-e610-43c4-bcde-ad93a6dea070",
   "metadata": {},
   "outputs": [],
   "source": []
  }
 ],
 "metadata": {
  "kernelspec": {
   "display_name": "Python 3 (ipykernel)",
   "language": "python",
   "name": "python3"
  },
  "language_info": {
   "codemirror_mode": {
    "name": "ipython",
    "version": 3
   },
   "file_extension": ".py",
   "mimetype": "text/x-python",
   "name": "python",
   "nbconvert_exporter": "python",
   "pygments_lexer": "ipython3",
   "version": "3.7.0"
  }
 },
 "nbformat": 4,
 "nbformat_minor": 5
}
