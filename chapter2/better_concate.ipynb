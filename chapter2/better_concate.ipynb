{
 "cells": [
  {
   "cell_type": "code",
   "execution_count": 2,
   "id": "6eb7a8d7-28dc-4be8-b0d5-5ec0b65fcfad",
   "metadata": {},
   "outputs": [
    {
     "name": "stdout",
     "output_type": "stream",
     "text": [
      "My name is Benedict, I am Fair in complexion and Tall by Height and 40years old.\n"
     ]
    }
   ],
   "source": [
    "#My name is Benedict, I am Fair in complexion and Tall by Height and 40years old. Where Benedict\n",
    "# Fair and Tall, age are values in a variable\n",
    "name = 'Benedict'\n",
    "color = 'Fair'\n",
    "age = 40\n",
    "height = 'Tall'\n",
    "sentence = 'My name is {}, I am {} in complexion and {} by Height and {}years old.'.format(name, color, height, age)\n",
    "print(sentence)"
   ]
  },
  {
   "cell_type": "code",
   "execution_count": 3,
   "id": "197d16b1-d99e-4f3a-9020-1cd81785a474",
   "metadata": {},
   "outputs": [
    {
     "name": "stdout",
     "output_type": "stream",
     "text": [
      "My name is Benedict, I am Fair in complexion and Tall by Height and 40years old.\n"
     ]
    }
   ],
   "source": [
    "#My name is Benedict, I am Fair in complexion and Tall by Height and 40years old. Where Benedict\n",
    "# Fair and Tall, age are values in a variable\n",
    "name = 'Benedict'\n",
    "color = 'Fair'\n",
    "age = 40\n",
    "height = 'Tall'\n",
    "sentence = f'My name is {name}, I am {color} in complexion and {height} by Height and {age}years old.'\n",
    "print(sentence)"
   ]
  },
  {
   "cell_type": "code",
   "execution_count": 4,
   "id": "25200195-6660-448c-af56-5abd1c3facc7",
   "metadata": {},
   "outputs": [
    {
     "data": {
      "text/plain": [
       "'\\nAn alternative way of the docstring\\nHere it is\\n'"
      ]
     },
     "execution_count": 4,
     "metadata": {},
     "output_type": "execute_result"
    }
   ],
   "source": [
    "'''\n",
    "My Docstring documentation\n",
    "Here is another line of doc string\n",
    "'''\n",
    "\n",
    "\"\"\"\n",
    "An alternative way of the docstring\n",
    "Here it is\n",
    "\"\"\""
   ]
  },
  {
   "cell_type": "code",
   "execution_count": null,
   "id": "381ad4b2-1b9c-49ac-b366-810aa7487841",
   "metadata": {},
   "outputs": [],
   "source": []
  }
 ],
 "metadata": {
  "kernelspec": {
   "display_name": "Python 3 (ipykernel)",
   "language": "python",
   "name": "python3"
  },
  "language_info": {
   "codemirror_mode": {
    "name": "ipython",
    "version": 3
   },
   "file_extension": ".py",
   "mimetype": "text/x-python",
   "name": "python",
   "nbconvert_exporter": "python",
   "pygments_lexer": "ipython3",
   "version": "3.7.0"
  }
 },
 "nbformat": 4,
 "nbformat_minor": 5
}
