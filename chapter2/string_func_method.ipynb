{
 "cells": [
  {
   "cell_type": "code",
   "execution_count": 1,
   "id": "bbed925b-b8ac-499c-9cb7-4c467d88fdac",
   "metadata": {},
   "outputs": [
    {
     "name": "stdout",
     "output_type": "stream",
     "text": [
      "8\n"
     ]
    }
   ],
   "source": [
    "name = 'Benedict'\n",
    "print(len(name))"
   ]
  },
  {
   "cell_type": "code",
   "execution_count": 2,
   "id": "ae5498aa-0700-4c06-90ee-89552745000d",
   "metadata": {},
   "outputs": [
    {
     "name": "stdout",
     "output_type": "stream",
     "text": [
      "10\n"
     ]
    }
   ],
   "source": [
    "name = ' Benedict '\n",
    "print(len(name))\n"
   ]
  },
  {
   "cell_type": "code",
   "execution_count": 3,
   "id": "7023db0f-209b-4eb7-9a55-865164eee11a",
   "metadata": {},
   "outputs": [
    {
     "name": "stdout",
     "output_type": "stream",
     "text": [
      "8\n"
     ]
    }
   ],
   "source": [
    "name = ' Benedict '\n",
    "remove_space = name.strip()\n",
    "print(len(remove_space))"
   ]
  },
  {
   "cell_type": "code",
   "execution_count": 4,
   "id": "79527f0f-8d3c-444c-84d7-2ba8808384b8",
   "metadata": {},
   "outputs": [
    {
     "name": "stdout",
     "output_type": "stream",
     "text": [
      "BENEDICT\n"
     ]
    }
   ],
   "source": [
    "name = 'Benedict'\n",
    "uppercase = name.upper()\n",
    "print(uppercase)"
   ]
  },
  {
   "cell_type": "code",
   "execution_count": 5,
   "id": "3a3913b0-44c1-411a-886e-179a85e8e1f3",
   "metadata": {},
   "outputs": [
    {
     "name": "stdout",
     "output_type": "stream",
     "text": [
      "benedict\n"
     ]
    }
   ],
   "source": [
    "name = 'BENEDICT'\n",
    "lower = name.lower()\n",
    "print(lower)"
   ]
  },
  {
   "cell_type": "code",
   "execution_count": 6,
   "id": "e2ba706a-124e-4e33-86e3-fdca98e9a6e4",
   "metadata": {},
   "outputs": [
    {
     "name": "stdout",
     "output_type": "stream",
     "text": [
      "Benedict\n"
     ]
    }
   ],
   "source": [
    "name = 'BENEDICT'\n",
    "capitalize = name.capitalize()\n",
    "print(capitalize)"
   ]
  },
  {
   "cell_type": "code",
   "execution_count": 11,
   "id": "5a463f16-d867-4c0b-875a-19e954e816dc",
   "metadata": {},
   "outputs": [
    {
     "name": "stdin",
     "output_type": "stream",
     "text": [
      "Enter name:  Benedict\n"
     ]
    },
    {
     "name": "stdout",
     "output_type": "stream",
     "text": [
      "Benedict\n"
     ]
    }
   ],
   "source": [
    "name = input('Enter name: ')\n",
    "print(name)\n"
   ]
  },
  {
   "cell_type": "code",
   "execution_count": null,
   "id": "fbe99db1-fc0d-4054-b5e8-238f1bd9b6fd",
   "metadata": {},
   "outputs": [],
   "source": []
  }
 ],
 "metadata": {
  "kernelspec": {
   "display_name": "Python 3 (ipykernel)",
   "language": "python",
   "name": "python3"
  },
  "language_info": {
   "codemirror_mode": {
    "name": "ipython",
    "version": 3
   },
   "file_extension": ".py",
   "mimetype": "text/x-python",
   "name": "python",
   "nbconvert_exporter": "python",
   "pygments_lexer": "ipython3",
   "version": "3.7.0"
  }
 },
 "nbformat": 4,
 "nbformat_minor": 5
}
