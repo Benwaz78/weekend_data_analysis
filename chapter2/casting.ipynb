{
 "cells": [
  {
   "cell_type": "code",
   "execution_count": 12,
   "id": "f8fc7a93-4202-4ebc-ac05-3a32584f5999",
   "metadata": {},
   "outputs": [
    {
     "name": "stdout",
     "output_type": "stream",
     "text": [
      "<class 'int'>\n"
     ]
    }
   ],
   "source": [
    "prize = 20.5\n",
    "convert_prize = int(prize)\n",
    "print(type(convert_prize))\n"
   ]
  },
  {
   "cell_type": "code",
   "execution_count": 14,
   "id": "71b525d2-8499-4867-937c-973e18368157",
   "metadata": {},
   "outputs": [
    {
     "name": "stdout",
     "output_type": "stream",
     "text": [
      "<class 'float'>\n"
     ]
    }
   ],
   "source": [
    "prize = '20'\n",
    "convert_prize = float(prize)\n",
    "print(type(convert_prize))"
   ]
  },
  {
   "cell_type": "code",
   "execution_count": 16,
   "id": "7c453090-0c70-49a9-8b89-4e6be487372d",
   "metadata": {},
   "outputs": [
    {
     "name": "stdout",
     "output_type": "stream",
     "text": [
      "<class 'str'>\n"
     ]
    }
   ],
   "source": [
    "prize = 40\n",
    "convert_prize = str(prize)\n",
    "print(type(convert_prize))"
   ]
  },
  {
   "cell_type": "code",
   "execution_count": null,
   "id": "bb522786-dcf3-4a45-ac37-f8cea87140b0",
   "metadata": {},
   "outputs": [],
   "source": []
  }
 ],
 "metadata": {
  "kernelspec": {
   "display_name": "Python 3 (ipykernel)",
   "language": "python",
   "name": "python3"
  },
  "language_info": {
   "codemirror_mode": {
    "name": "ipython",
    "version": 3
   },
   "file_extension": ".py",
   "mimetype": "text/x-python",
   "name": "python",
   "nbconvert_exporter": "python",
   "pygments_lexer": "ipython3",
   "version": "3.7.0"
  }
 },
 "nbformat": 4,
 "nbformat_minor": 5
}
