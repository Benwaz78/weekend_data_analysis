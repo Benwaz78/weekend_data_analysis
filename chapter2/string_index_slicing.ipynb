{
 "cells": [
  {
   "cell_type": "code",
   "execution_count": 1,
   "id": "d0401a25-b820-4703-a98e-262eb6aa5aff",
   "metadata": {},
   "outputs": [
    {
     "name": "stdout",
     "output_type": "stream",
     "text": [
      "B\n"
     ]
    }
   ],
   "source": [
    "name = 'Benedict'\n",
    "print(name[0])\n"
   ]
  },
  {
   "cell_type": "code",
   "execution_count": 2,
   "id": "e00af019-52a9-4678-a903-ead19e50416c",
   "metadata": {},
   "outputs": [
    {
     "name": "stdout",
     "output_type": "stream",
     "text": [
      "e\n"
     ]
    }
   ],
   "source": [
    "print(name[1])"
   ]
  },
  {
   "cell_type": "code",
   "execution_count": 3,
   "id": "0d7f78db-da18-4386-aa4c-7467c4ffb07d",
   "metadata": {},
   "outputs": [
    {
     "name": "stdout",
     "output_type": "stream",
     "text": [
      "t\n"
     ]
    }
   ],
   "source": [
    "print(name[-1])"
   ]
  },
  {
   "cell_type": "code",
   "execution_count": 4,
   "id": "b809a884-268e-4558-8acc-fe5463227725",
   "metadata": {},
   "outputs": [
    {
     "name": "stdout",
     "output_type": "stream",
     "text": [
      "c\n"
     ]
    }
   ],
   "source": [
    "print(name[-2])"
   ]
  },
  {
   "cell_type": "code",
   "execution_count": 5,
   "id": "2e194401-3df8-4000-8d40-6f6a8a7e6384",
   "metadata": {},
   "outputs": [
    {
     "name": "stdout",
     "output_type": "stream",
     "text": [
      "Ben\n"
     ]
    }
   ],
   "source": [
    "name = 'Benedict'\n",
    "print(name[:3])"
   ]
  },
  {
   "cell_type": "code",
   "execution_count": 6,
   "id": "9550f964-d453-4444-8669-242114fb3990",
   "metadata": {},
   "outputs": [
    {
     "name": "stdout",
     "output_type": "stream",
     "text": [
      "Bene\n"
     ]
    }
   ],
   "source": [
    "print(name[:4])"
   ]
  },
  {
   "cell_type": "code",
   "execution_count": 7,
   "id": "8217497f-a3fb-44df-bf09-3f34a3643518",
   "metadata": {},
   "outputs": [
    {
     "name": "stdout",
     "output_type": "stream",
     "text": [
      "dict\n"
     ]
    }
   ],
   "source": [
    "print(name[4:])"
   ]
  },
  {
   "cell_type": "code",
   "execution_count": 8,
   "id": "af8bc5d1-512a-4435-971d-7c89d93717aa",
   "metadata": {},
   "outputs": [
    {
     "name": "stdout",
     "output_type": "stream",
     "text": [
      "enedict\n"
     ]
    }
   ],
   "source": [
    "print(name[1:])"
   ]
  },
  {
   "cell_type": "code",
   "execution_count": 9,
   "id": "13ced043-e4d5-458b-9eab-2ee837b8b9fc",
   "metadata": {},
   "outputs": [
    {
     "name": "stdout",
     "output_type": "stream",
     "text": [
      "ned\n"
     ]
    }
   ],
   "source": [
    "print(name[2:5])"
   ]
  },
  {
   "cell_type": "code",
   "execution_count": 10,
   "id": "3f264556-6678-4c82-8609-1d2e023b2793",
   "metadata": {},
   "outputs": [
    {
     "name": "stdout",
     "output_type": "stream",
     "text": [
      "dict\n"
     ]
    }
   ],
   "source": [
    "print(name[-4:])"
   ]
  },
  {
   "cell_type": "code",
   "execution_count": 11,
   "id": "4dde45be-cbc6-4e08-a9c5-9a7df0246fe8",
   "metadata": {},
   "outputs": [
    {
     "name": "stdout",
     "output_type": "stream",
     "text": [
      "dic\n"
     ]
    }
   ],
   "source": [
    "print(name[-4:-1])"
   ]
  },
  {
   "cell_type": "code",
   "execution_count": null,
   "id": "7933f51b-4695-4804-885e-164e4a1c154e",
   "metadata": {},
   "outputs": [],
   "source": []
  }
 ],
 "metadata": {
  "kernelspec": {
   "display_name": "Python 3 (ipykernel)",
   "language": "python",
   "name": "python3"
  },
  "language_info": {
   "codemirror_mode": {
    "name": "ipython",
    "version": 3
   },
   "file_extension": ".py",
   "mimetype": "text/x-python",
   "name": "python",
   "nbconvert_exporter": "python",
   "pygments_lexer": "ipython3",
   "version": "3.7.0"
  }
 },
 "nbformat": 4,
 "nbformat_minor": 5
}
