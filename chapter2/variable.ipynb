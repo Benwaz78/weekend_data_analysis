{
 "cells": [
  {
   "cell_type": "code",
   "execution_count": 2,
   "id": "03e4f9cd-3d91-46bf-8794-5eceb41b7eef",
   "metadata": {},
   "outputs": [
    {
     "name": "stdout",
     "output_type": "stream",
     "text": [
      "50\n"
     ]
    }
   ],
   "source": [
    "num1 = 20\n",
    "num2 = 30\n",
    "sum = num1 + num2\n",
    "print(sum)"
   ]
  },
  {
   "cell_type": "code",
   "execution_count": 3,
   "id": "5641ba18-ffcc-4c54-aedd-09b06aefd7ff",
   "metadata": {},
   "outputs": [],
   "source": [
    "# my_variable snake casing\n",
    "# myVariable camel casing\n",
    "# MyVariable Pascal casing\n"
   ]
  },
  {
   "cell_type": "code",
   "execution_count": 4,
   "id": "323f7b63-7a61-4d08-b588-79b5d17488a5",
   "metadata": {},
   "outputs": [
    {
     "name": "stdout",
     "output_type": "stream",
     "text": [
      "40\n"
     ]
    }
   ],
   "source": [
    "num1 = 30\n",
    "num1 = 40\n",
    "print(num1)\n"
   ]
  },
  {
   "cell_type": "code",
   "execution_count": 5,
   "id": "8f270781-8def-4f51-beba-27605e4195c3",
   "metadata": {},
   "outputs": [
    {
     "name": "stdout",
     "output_type": "stream",
     "text": [
      "My name is Benedict\n"
     ]
    }
   ],
   "source": [
    "name = 'My name is Benedict'\n",
    "print(name)"
   ]
  },
  {
   "cell_type": "code",
   "execution_count": null,
   "id": "aae0181f-b53a-4bde-bda7-e4c5c97d1f00",
   "metadata": {},
   "outputs": [],
   "source": []
  }
 ],
 "metadata": {
  "kernelspec": {
   "display_name": "Python 3 (ipykernel)",
   "language": "python",
   "name": "python3"
  },
  "language_info": {
   "codemirror_mode": {
    "name": "ipython",
    "version": 3
   },
   "file_extension": ".py",
   "mimetype": "text/x-python",
   "name": "python",
   "nbconvert_exporter": "python",
   "pygments_lexer": "ipython3",
   "version": "3.7.0"
  }
 },
 "nbformat": 4,
 "nbformat_minor": 5
}
