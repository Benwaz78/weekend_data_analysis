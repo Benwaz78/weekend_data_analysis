{
 "cells": [
  {
   "cell_type": "code",
   "execution_count": 1,
   "id": "d76375ac-bd07-4614-b332-5fd228369a20",
   "metadata": {},
   "outputs": [
    {
     "data": {
      "text/plain": [
       "'My name is Benedict'"
      ]
     },
     "execution_count": 1,
     "metadata": {},
     "output_type": "execute_result"
    }
   ],
   "source": [
    "'My name is Benedict'"
   ]
  },
  {
   "cell_type": "code",
   "execution_count": 2,
   "id": "c945abc0-ccd1-4674-ad45-a50b20d600b3",
   "metadata": {},
   "outputs": [
    {
     "data": {
      "text/plain": [
       "'My name is Benedict'"
      ]
     },
     "execution_count": 2,
     "metadata": {},
     "output_type": "execute_result"
    }
   ],
   "source": [
    "\"My name is Benedict\"\n"
   ]
  },
  {
   "cell_type": "code",
   "execution_count": 3,
   "id": "5725101d-94d8-4450-b771-82b431d058a3",
   "metadata": {},
   "outputs": [
    {
     "data": {
      "text/plain": [
       "\"Get rich or die trying by '50 Cent' \""
      ]
     },
     "execution_count": 3,
     "metadata": {},
     "output_type": "execute_result"
    }
   ],
   "source": [
    "\"Get rich or die trying by '50 Cent' \""
   ]
  },
  {
   "cell_type": "code",
   "execution_count": 4,
   "id": "04194ef6-ad1b-4a58-8a56-139344b47925",
   "metadata": {},
   "outputs": [
    {
     "data": {
      "text/plain": [
       "'Get rich or die trying by \"50 Cent\" '"
      ]
     },
     "execution_count": 4,
     "metadata": {},
     "output_type": "execute_result"
    }
   ],
   "source": [
    "'Get rich or die trying by \"50 Cent\" '"
   ]
  },
  {
   "cell_type": "code",
   "execution_count": 5,
   "id": "6553f5b2-647b-4879-b108-bbb115918cda",
   "metadata": {},
   "outputs": [
    {
     "data": {
      "text/plain": [
       "'Get rich or die trying by \"50 Cent\" '"
      ]
     },
     "execution_count": 5,
     "metadata": {},
     "output_type": "execute_result"
    }
   ],
   "source": [
    "\"Get rich or die trying by \\\"50 Cent\\\" \""
   ]
  },
  {
   "cell_type": "code",
   "execution_count": 7,
   "id": "739454cc-6d2b-479a-b64c-1e2fc9dcb2b3",
   "metadata": {},
   "outputs": [
    {
     "data": {
      "text/plain": [
       "'Get rich or die trying by \"50 Cent \" '"
      ]
     },
     "execution_count": 7,
     "metadata": {},
     "output_type": "execute_result"
    }
   ],
   "source": [
    "\"Get rich or die trying by \\\"50 Cent \\\" \""
   ]
  },
  {
   "cell_type": "code",
   "execution_count": 9,
   "id": "2ea70161-7381-4aa2-9cf5-af418013fdf4",
   "metadata": {},
   "outputs": [
    {
     "name": "stdout",
     "output_type": "stream",
     "text": [
      "Benedict Uwazie\n"
     ]
    }
   ],
   "source": [
    "fname = 'Benedict'\n",
    "lname = ' Uwazie'\n",
    "full_name = fname + lname\n",
    "print(full_name)"
   ]
  },
  {
   "cell_type": "code",
   "execution_count": 12,
   "id": "03dc6e6b-4a10-4bab-bc1e-dd88560e23f0",
   "metadata": {},
   "outputs": [
    {
     "name": "stdout",
     "output_type": "stream",
     "text": [
      "Chinonso Benedict Uwazie\n"
     ]
    }
   ],
   "source": [
    "fname = 'Chinonso'\n",
    "mname = 'Benedict'\n",
    "lname = 'Uwazie'\n",
    "full_name = fname +' ' + mname + ' ' + lname\n",
    "print(full_name)"
   ]
  },
  {
   "cell_type": "code",
   "execution_count": 17,
   "id": "01030c8e-f2d2-4297-a68d-88d35323efa7",
   "metadata": {},
   "outputs": [
    {
     "name": "stdout",
     "output_type": "stream",
     "text": [
      "My name is Benedict, I am Fair in complexion and Tallby Height and 40years old.\n"
     ]
    }
   ],
   "source": [
    "#My name is Benedict, I am Fair in complexion and Tall by Height and 40years old. Where Benedict\n",
    "# Fair and Tall, age are values in a variable\n",
    "name = 'Benedict'\n",
    "color = 'Fair'\n",
    "age = 40\n",
    "height = 'Tall'\n",
    "sentence = 'My name is '+name+', I am '+color+' in complexion and '+height+'by Height and '+str(age)+'years old.'\n",
    "print(sentence)\n"
   ]
  },
  {
   "cell_type": "code",
   "execution_count": null,
   "id": "17f08e4b-4480-4b14-807d-46ba41c4f74a",
   "metadata": {},
   "outputs": [],
   "source": []
  }
 ],
 "metadata": {
  "kernelspec": {
   "display_name": "Python 3 (ipykernel)",
   "language": "python",
   "name": "python3"
  },
  "language_info": {
   "codemirror_mode": {
    "name": "ipython",
    "version": 3
   },
   "file_extension": ".py",
   "mimetype": "text/x-python",
   "name": "python",
   "nbconvert_exporter": "python",
   "pygments_lexer": "ipython3",
   "version": "3.7.0"
  }
 },
 "nbformat": 4,
 "nbformat_minor": 5
}
